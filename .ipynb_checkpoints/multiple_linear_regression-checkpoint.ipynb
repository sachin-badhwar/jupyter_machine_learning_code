{
 "cells": [
  {
   "cell_type": "code",
   "execution_count": null,
   "id": "8b12e648-65f1-4b6f-8383-9efb37333a16",
   "metadata": {},
   "outputs": [],
   "source": [
    "from sklearn.datasets import make_regression\n",
    "import pandas as pd\n",
    "import numpy as np\n",
    "\n",
    "import plotly.express as px\n",
    "import plotly.graph_objects as go\n",
    "\n",
    "from sklearn.metrics import mean_absolute_error,mean_squared_error,r2_score"
   ]
  },
  {
   "cell_type": "code",
   "execution_count": null,
   "id": "ef897a64-603e-48ad-8525-54c7eb01cd81",
   "metadata": {},
   "outputs": [],
   "source": [
    "# X, y - This assigns the generated data to two variables. X will be the feature matrix (your independent variables), \n",
    "#and y will be the target vector (your dependent variable).\n",
    "#n_features=2: This sets the number of independent variables or features for each sample. Here, each of the 100 samples will have 2 features.\n",
    "# n_informative=2: This tells the function how many of the features are actually useful for predicting the target variable y. \n",
    "#n_targets=1: This specifies that the target variable y will have only one column, which is the standard for a single-output \n",
    "#regression problem.\n",
    "\n",
    "# noise=50: This adds random noise to the target variable y. A higher value for noise means the relationship between X and y will be \n",
    "#less perfect, making the regression problem more challenging\n",
    "X,y = make_regression(n_samples=100, n_features=2, n_informative=2, n_targets=1, noise=50)\n",
    "df = pd.DataFrame({'feature1':X[:,0],'feature2':X[:,1],'target':y})\n",
    "print(df)"
   ]
  }
 ],
 "metadata": {
  "kernelspec": {
   "display_name": "Python 3 (ipykernel)",
   "language": "python",
   "name": "python3"
  },
  "language_info": {
   "codemirror_mode": {
    "name": "ipython",
    "version": 3
   },
   "file_extension": ".py",
   "mimetype": "text/x-python",
   "name": "python",
   "nbconvert_exporter": "python",
   "pygments_lexer": "ipython3",
   "version": "3.12.3"
  }
 },
 "nbformat": 4,
 "nbformat_minor": 5
}
